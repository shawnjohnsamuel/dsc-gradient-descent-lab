{
 "cells": [
  {
   "cell_type": "markdown",
   "metadata": {},
   "source": [
    "# Gradient Descent - Lab\n",
    "\n",
    "## Introduction\n",
    "\n",
    "In this lab, you'll continue to formalize your knowledge of gradient descent by coding the algorithm yourself. In the upcoming labs, you'll apply similar procedures to implement logistic regression on your own.\n",
    "\n",
    "\n",
    "## Objectives\n",
    "\n",
    "In this lab you will: \n",
    "\n",
    "\n",
    "- Implement gradient descent from scratch to minimize OLS\n"
   ]
  },
  {
   "cell_type": "markdown",
   "metadata": {},
   "source": [
    "## Use gradient descent to minimize OLS\n",
    "\n",
    "To practice gradient descent, you'll investigate a simple regression case in which you're looking to minimize the Residual Sum of Squares (RSS) between the predictions and the actual values. Remember that this is referred to as Ordinary Least Squares (OLS) regression. You'll compare two simplistic models and use gradient descent to improve upon these initial models.\n",
    "\n",
    "\n",
    "## Load the dataset\n",
    "\n",
    "- Import the file `'movie_data.xlsx'` using Pandas \n",
    "- Print the first five rows of the data \n",
    "\n",
    "> You can use the `read_excel()` function to import an Excel file. "
   ]
  },
  {
   "cell_type": "code",
   "execution_count": 2,
   "metadata": {},
   "outputs": [
    {
     "data": {
      "text/html": [
       "<div>\n",
       "<style scoped>\n",
       "    .dataframe tbody tr th:only-of-type {\n",
       "        vertical-align: middle;\n",
       "    }\n",
       "\n",
       "    .dataframe tbody tr th {\n",
       "        vertical-align: top;\n",
       "    }\n",
       "\n",
       "    .dataframe thead th {\n",
       "        text-align: right;\n",
       "    }\n",
       "</style>\n",
       "<table border=\"1\" class=\"dataframe\">\n",
       "  <thead>\n",
       "    <tr style=\"text-align: right;\">\n",
       "      <th></th>\n",
       "      <th>budget</th>\n",
       "      <th>domgross</th>\n",
       "      <th>title</th>\n",
       "    </tr>\n",
       "  </thead>\n",
       "  <tbody>\n",
       "    <tr>\n",
       "      <th>0</th>\n",
       "      <td>13000000</td>\n",
       "      <td>25682380</td>\n",
       "      <td>21 &amp;amp; Over</td>\n",
       "    </tr>\n",
       "    <tr>\n",
       "      <th>1</th>\n",
       "      <td>45658735</td>\n",
       "      <td>13414714</td>\n",
       "      <td>Dredd 3D</td>\n",
       "    </tr>\n",
       "    <tr>\n",
       "      <th>2</th>\n",
       "      <td>20000000</td>\n",
       "      <td>53107035</td>\n",
       "      <td>12 Years a Slave</td>\n",
       "    </tr>\n",
       "    <tr>\n",
       "      <th>3</th>\n",
       "      <td>61000000</td>\n",
       "      <td>75612460</td>\n",
       "      <td>2 Guns</td>\n",
       "    </tr>\n",
       "    <tr>\n",
       "      <th>4</th>\n",
       "      <td>40000000</td>\n",
       "      <td>95020213</td>\n",
       "      <td>42</td>\n",
       "    </tr>\n",
       "  </tbody>\n",
       "</table>\n",
       "</div>"
      ],
      "text/plain": [
       "     budget  domgross             title\n",
       "0  13000000  25682380     21 &amp; Over\n",
       "1  45658735  13414714          Dredd 3D\n",
       "2  20000000  53107035  12 Years a Slave\n",
       "3  61000000  75612460            2 Guns\n",
       "4  40000000  95020213                42"
      ]
     },
     "execution_count": 2,
     "metadata": {},
     "output_type": "execute_result"
    }
   ],
   "source": [
    "# Import the data\n",
    "import pandas as pd\n",
    "df = pd.read_excel('movie_data.xlsx')\n",
    "\n",
    "# Print the first five rows of the data\n",
    "df.head()"
   ]
  },
  {
   "cell_type": "markdown",
   "metadata": {},
   "source": [
    "## Two simplistic models\n",
    "\n",
    "Imagine someone is attempting to predict the domestic gross sales of a movie based on the movie's budget, or at least further investigate how these two quantities are related. Two models are suggested and need to be compared.  \n",
    "The two models are:  \n",
    "\n",
    "$\\text{domgross} = 1.575 \\cdot \\text{budget}$  \n",
    "$\\text{domgross} = 1.331 \\cdot \\text{budget}$  \n",
    "\n",
    "\n",
    "Here's a graph of the two models along with the actual data:"
   ]
  },
  {
   "cell_type": "code",
   "execution_count": 3,
   "metadata": {},
   "outputs": [
    {
     "data": {
      "image/png": "[encoded data removed]",
      "text/plain": [
       "<Figure size 432x288 with 1 Axes>"
      ]
     },
     "metadata": {
      "needs_background": "light"
     },
     "output_type": "display_data"
    }
   ],
   "source": [
    "import numpy as np\n",
    "import matplotlib.pyplot as plt\n",
    "%matplotlib inline\n",
    "\n",
    "x = np.linspace(start=df['budget'].min(), stop=df['budget'].max(), num=10**5)\n",
    "plt.scatter(x, 1.575*x, label='Mean Ratio Model') # Model 1\n",
    "plt.scatter(x, 1.331*x, label='Median Ratio Model') # Model 2\n",
    "plt.scatter(df['budget'], df['domgross'], label='Actual Data Points')\n",
    "plt.title('Gross Domestic Sales vs. Budget', fontsize=18)\n",
    "plt.xlabel('Budget', fontsize=16)\n",
    "plt.ylabel('Gross Domestic Sales', fontsize=16)\n",
    "plt.legend(bbox_to_anchor=(1, 1))\n",
    "plt.show()"
   ]
  },
  {
   "cell_type": "markdown",
   "metadata": {},
   "source": [
    "## Error/Loss functions\n",
    "\n",
    "To compare the two models (and future ones), a metric for evaluating and comparing models to each other is needed. Traditionally, this is the residual sum of squares. As such you are looking to minimize  $ \\sum(\\hat{y}-y)^2$.\n",
    "Write a function `rss()` which calculates the residual sum of squares for a simplistic model: \n",
    "\n",
    "$\\text{domgross} = m \\cdot \\text{budget}$ "
   ]
  },
  {
   "cell_type": "code",
   "execution_count": 4,
   "metadata": {},
   "outputs": [],
   "source": [
    "def rss(m, X=df['budget'], y=df['domgross']):\n",
    "    model = m * X\n",
    "    residuals = model - y\n",
    "    total_rss = residuals.map(lambda x: x**2).sum()\n",
    "    return total_rss"
   ]
  },
  {
   "cell_type": "markdown",
   "metadata": {},
   "source": [
    "## Find the RSS for the two models\n",
    "Which of the two models is better?"
   ]
  },
  {
   "cell_type": "code",
   "execution_count": 5,
   "metadata": {},
   "outputs": [
    {
     "name": "stdout",
     "output_type": "stream",
     "text": [
      "Model 1 RSS: 2.7614512142376128e+17\n",
      "Model 2 RSS: 2.3547212057814554e+17\n"
     ]
    }
   ],
   "source": [
    "# Your code here\n",
    "print('Model 1 RSS:', rss(1.575))\n",
    "print('Model 2 RSS:', rss(1.331))"
   ]
  },
  {
   "cell_type": "code",
   "execution_count": null,
   "metadata": {},
   "outputs": [],
   "source": [
    "# Model 2 is slightly better"
   ]
  },
  {
   "cell_type": "markdown",
   "metadata": {},
   "source": [
    "## Gradient descent\n",
    "\n",
    "Now that you have a loss function, you can use numerical methods to find a minimum to the loss function. By minimizing the loss function, you have achieved an optimal solution according to the problem formulation. Here's the outline of gradient descent from the previous lesson:  \n",
    "\n",
    "1. Define initial parameters:\n",
    "    1. pick a starting point\n",
    "    2. pick a step size $\\alpha$ (alpha)\n",
    "    3. choose a maximum number of iterations; the algorithm will terminate after this many iterations if a minimum has yet to be found\n",
    "    4. (optionally) define a precision parameter; similar to the maximum number of iterations, this will terminate the algorithm early. For example, one might define a precision parameter of 0.00001, in which case if the change in the loss function were less than 0.00001, the algorithm would terminate. The idea is that we are very close to the bottom and further iterations would make a negligible difference \n",
    "2. Calculate the gradient at the current point (initially, the starting point)\n",
    "3. Take a step (of size alpha) in the direction of the gradient\n",
    "4. Repeat steps 2 and 3 until the maximum number of iterations is met, or the difference between two points is less then your precision parameter  \n",
    "\n",
    "To start, visualize the cost function. Plot the cost function output for a range of m values from -3 to 5."
   ]
  },
  {
   "cell_type": "code",
   "execution_count": null,
   "metadata": {},
   "outputs": [],
   "source": [
    "# Your code here\n"
   ]
  },
  {
   "cell_type": "markdown",
   "metadata": {},
   "source": [
    "As you can see, this is a simple cost function. The minimum is clearly around 1. With that, it's time to implement gradient descent in order to find the optimal value for m."
   ]
  },
  {
   "cell_type": "code",
   "execution_count": null,
   "metadata": {},
   "outputs": [],
   "source": [
    "# Set a starting point\n",
    "cur_x = None\n",
    "\n",
    "# Initialize a step size\n",
    "alpha = None\n",
    "\n",
    "# Initialize a precision\n",
    "precision = 0.0000001 \n",
    "\n",
    "# Helpful initialization\n",
    "previous_step_size = 1 \n",
    "\n",
    "# Maximum number of iterations\n",
    "max_iters = 10000 \n",
    "\n",
    "# Iteration counter\n",
    "iters = 0 \n",
    "\n",
    "# Create a loop to iterate through the algorithm until either the max_iteration or precision conditions is met\n",
    "# Your code here; create a loop as described above\n",
    "    # Calculate the gradient. This is often done by hand to reduce computational complexity.\n",
    "    # For here, generate points surrounding your current state, then calculate the rss of these points\n",
    "    # Finally, use the np.gradient() method on this survey region. \n",
    "    # This code is provided here to ease this portion of the algorithm implementation\n",
    "    x_survey_region = np.linspace(start = cur_x - previous_step_size , stop = cur_x + previous_step_size , num = 101)\n",
    "    rss_survey_region = [np.sqrt(rss(m)) for m in x_survey_region]\n",
    "    gradient = np.gradient(rss_survey_region)[50] \n",
    "    \n",
    "    # Update the current x, by taking an \"alpha sized\" step in the direction of the gradient\n",
    "\n",
    "    # Update the iteration number\n",
    "\n",
    "\n",
    "# The output for the above will be: ('The local minimum occurs at', 1.1124498053361267)    \n",
    "print(\"The local minimum occurs at\", cur_x)"
   ]
  },
  {
   "cell_type": "markdown",
   "metadata": {},
   "source": [
    "## Plot the minimum on your graph\n",
    "Replot the RSS cost curve as above. Add a red dot for the minimum of this graph using the solution from your gradient descent function above."
   ]
  },
  {
   "cell_type": "code",
   "execution_count": null,
   "metadata": {},
   "outputs": [],
   "source": [
    "# Your code here"
   ]
  },
  {
   "cell_type": "markdown",
   "metadata": {},
   "source": [
    "## Summary \n",
    "\n",
    "In this lab, you coded up a gradient descent algorithm from scratch! In the next lab, you'll apply this to logistic regression in order to create a full implementation yourself!"
   ]
  }
 ],
 "metadata": {
  "kernelspec": {
   "display_name": "Python 3",
   "language": "python",
   "name": "python3"
  },
  "language_info": {
   "codemirror_mode": {
    "name": "ipython",
    "version": 3
   },
   "file_extension": ".py",
   "mimetype": "text/x-python",
   "name": "python",
   "nbconvert_exporter": "python",
   "pygments_lexer": "ipython3",
   "version": "3.6.9"
  }
 },
 "nbformat": 4,
 "nbformat_minor": 2
}
